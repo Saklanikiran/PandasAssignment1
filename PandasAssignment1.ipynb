{
 "cells": [
  {
   "cell_type": "code",
   "execution_count": 3,
   "id": "18b76961-7488-4f16-a1b6-a54db30087e0",
   "metadata": {},
   "outputs": [
    {
     "name": "stdout",
     "output_type": "stream",
     "text": [
      "0     4\n",
      "1     8\n",
      "2    15\n",
      "3    16\n",
      "4    23\n",
      "5    42\n",
      "dtype: int64\n"
     ]
    }
   ],
   "source": [
    "# Ans : 1\n",
    "import pandas as pd\n",
    "l=[4,8,15,16,23,42]\n",
    "myvar=pd.Series(l)\n",
    "print(myvar)"
   ]
  },
  {
   "cell_type": "code",
   "execution_count": 5,
   "id": "eda14695-5be0-407b-a49e-5cb2898a9508",
   "metadata": {},
   "outputs": [
    {
     "name": "stdout",
     "output_type": "stream",
     "text": [
      "0      Kiran\n",
      "1      Pooja\n",
      "2     Malika\n",
      "3    Kashish\n",
      "4      Vimla\n",
      "5      Reetu\n",
      "6      Beena\n",
      "7      Pinki\n",
      "8       Hema\n",
      "9    Bhawana\n",
      "dtype: object\n"
     ]
    }
   ],
   "source": [
    "# Ans : 2\n",
    "import pandas as pd\n",
    "list1=[\"Kiran\",\"Pooja\",\"Malika\",\"Kashish\",\"Vimla\",\"Reetu\",\"Beena\",\"Pinki\",\"Hema\",\"Bhawana\"]\n",
    "list2=pd.Series(list1)\n",
    "print(list2)"
   ]
  },
  {
   "cell_type": "code",
   "execution_count": 16,
   "id": "c53e9496-1067-4431-b6ae-4aed86a82254",
   "metadata": {},
   "outputs": [
    {
     "name": "stdout",
     "output_type": "stream",
     "text": [
      "     Name  Age  Gender\n",
      "0   Alice   25  Female\n",
      "1     Bob   30    Male\n",
      "2  Claire   27  Female\n"
     ]
    }
   ],
   "source": [
    "# Ans : 3\n",
    "import pandas as pd\n",
    "c={\"Name\":[\"Alice\",\"Bob\",\"Claire\"],\"Age\":[25,30,27],\"Gender\":[\"Female\",\"Male\",\"Female\"]}\n",
    "c2=pd.DataFrame(c)\n",
    "print(c2)"
   ]
  },
  {
   "cell_type": "code",
   "execution_count": 19,
   "id": "001fb4fd-e1f7-4c63-a78c-5b9769d3c9f9",
   "metadata": {},
   "outputs": [
    {
     "name": "stdout",
     "output_type": "stream",
     "text": [
      "Series exmple : \n",
      "0    A\n",
      "1    B\n",
      "2    C\n",
      "3    D\n",
      "4    E\n",
      "dtype: object\n",
      "DataFrame example :\n",
      "     Name  Age\n",
      "0   Kiran   20\n",
      "1  Malika   20\n",
      "2   Pooja   19\n"
     ]
    }
   ],
   "source": [
    "# Ans : 4\n",
    "'''\n",
    "DataFrame in pandas : A pandas DataFrame  is a 2 dimensional data structure like 2 dimensional array or a table \n",
    "with rows and columns.\n",
    "'''\n",
    "'''\n",
    "Difference between pandas series and pandas dataframe :\n",
    "    > A Series is a one-dimensional array-like data structure with an index that labels the elements.\n",
    "    > A DataFrame is a two-dimensional table-like data structure with rows and columns.\n",
    "      It's a collection of Series objects sharing a common index.\n",
    "'''\n",
    "# Example :\n",
    "\n",
    "import pandas as pd\n",
    "# code for pandas series:\n",
    "data=['A','B','C','D','E']\n",
    "series=pd.Series(data)\n",
    "print(\"Series exmple : \")\n",
    "print(series)\n",
    "\n",
    "# code for pandas dataFrame :\n",
    "data1={\n",
    "    \"Name\":[\"Kiran\",\"Malika\",\"Pooja\"],\n",
    "    \"Age\":[20,20,19]\n",
    "    }\n",
    "series1=pd.DataFrame(data1)\n",
    "print(\"DataFrame example :\")\n",
    "print(series1)\n"
   ]
  },
  {
   "cell_type": "code",
   "execution_count": 21,
   "id": "01d634d2-225c-468c-87a4-b07ddafb72f7",
   "metadata": {},
   "outputs": [
    {
     "name": "stdout",
     "output_type": "stream",
     "text": [
      "   Duration  Pulse  Maxpulse  Calories\n",
      "0        60    110       130     409.1\n",
      "1        60    117       145     479.0\n",
      "2        60    103       135     340.0\n",
      "3        45    109       175     282.4\n",
      "4        45    117       148     406.0\n",
      "     Duration  Pulse  Maxpulse  Calories\n",
      "164        60    105       140     290.8\n",
      "165        60    110       145     300.0\n",
      "166        60    115       145     310.2\n",
      "167        75    120       150     320.4\n",
      "168        75    125       150     330.4\n"
     ]
    }
   ],
   "source": [
    "# Ans : 5\n",
    "'''\n",
    "head() and tail() : These functions are used to display the first or last n rows of a DataFrame, respectively.\n",
    "'''\n",
    "# Example :\n",
    "import pandas as pd\n",
    "df=pd.read_csv(\"data.csv\")\n",
    "print(df.head(5))  # Display the first 5 rows\n",
    "print(df.tail(5))  # Display the last 5 rows\n",
    "\n"
   ]
  },
  {
   "cell_type": "code",
   "execution_count": 22,
   "id": "30e12238-4ebb-4727-b156-0ae7a5bffe19",
   "metadata": {},
   "outputs": [
    {
     "data": {
      "text/plain": [
       "'\\nSeries and DataFrame are mutable, while a Panel is no longer available in the latest versions \\nof Pandas and has been deprecated.\\n'"
      ]
     },
     "execution_count": 22,
     "metadata": {},
     "output_type": "execute_result"
    }
   ],
   "source": [
    "# Ans : 6\n",
    "'''\n",
    "Series and DataFrame are mutable, while a Panel is no longer available in the latest versions \n",
    "of Pandas and has been deprecated.\n",
    "'''\n"
   ]
  },
  {
   "cell_type": "code",
   "execution_count": 25,
   "id": "675dc83d-a234-4863-99f6-40996d15346b",
   "metadata": {},
   "outputs": [
    {
     "name": "stdout",
     "output_type": "stream",
     "text": [
      "     Name  Age Grade\n",
      "0   Alice   25     A\n",
      "1     Bob   30     B\n",
      "2  Claire   40     A\n"
     ]
    }
   ],
   "source": [
    "# Ans : 7\n",
    "import pandas as pd\n",
    "name=pd.Series([\"Alice\",\"Bob\",\"Claire\"])\n",
    "age=pd.Series([25,30,40])\n",
    "grade=pd.Series(['A','B','A'])\n",
    "\n",
    "series={\n",
    "    \"Name\":name,\n",
    "    \"Age\":age,\n",
    "    \"Grade\":grade\n",
    "}\n",
    "df=pd.DataFrame(series)\n",
    "print(df)"
   ]
  },
  {
   "cell_type": "code",
   "execution_count": null,
   "id": "8bdce3f7-87fd-4c8e-8155-4801abca4883",
   "metadata": {},
   "outputs": [],
   "source": []
  }
 ],
 "metadata": {
  "kernelspec": {
   "display_name": "Python 3 (ipykernel)",
   "language": "python",
   "name": "python3"
  },
  "language_info": {
   "codemirror_mode": {
    "name": "ipython",
    "version": 3
   },
   "file_extension": ".py",
   "mimetype": "text/x-python",
   "name": "python",
   "nbconvert_exporter": "python",
   "pygments_lexer": "ipython3",
   "version": "3.10.8"
  }
 },
 "nbformat": 4,
 "nbformat_minor": 5
}
